{
 "cells": [
  {
   "cell_type": "markdown",
   "metadata": {},
   "source": [
    "# Preparing the dataset for hippocampus segmentation\n",
    "\n",
    "In this notebook you will use the skills and methods that we have talked about during our EDA Lesson to prepare the hippocampus dataset using Python. Follow the Notebook, writing snippets of code where directed so using Task comments, similar to the one below, which expects you to put the proper imports in place. Write your code directly in the cell with TASK comment. Feel free to add cells as you see fit, but please make sure that code that performs that tasked activity sits in the same cell as the Task comment.\n"
   ]
  },
  {
   "cell_type": "code",
   "execution_count": 1,
   "metadata": {},
   "outputs": [],
   "source": [
    "# TASK: Import the following libraries that we will use: nibabel, matplotlib, numpy\n",
    "\n",
    "import numpy as np\n",
    "import nibabel as nib\n",
    "import matplotlib.pyplot as plt\n",
    "import os\n",
    "import shutil\n",
    "import glob"
   ]
  },
  {
   "cell_type": "markdown",
   "metadata": {},
   "source": [
    "It will help your understanding of the data a lot if you were able to use a tool that allows you to view NIFTI volumes, like [3D Slicer](https://www.slicer.org/). I will refer to Slicer throughout this Notebook and will be pasting some images showing what your output might look like."
   ]
  },
  {
   "cell_type": "markdown",
   "metadata": {},
   "source": [
    "## Loading NIFTI images using NiBabel\n",
    "\n",
    "NiBabel is a python library for working with neuro-imaging formats (including NIFTI) that we have used in some of the exercises throughout the course. Our volumes and labels are in NIFTI format, so we will use nibabel to load and inspect them.\n",
    "\n",
    "NiBabel documentation could be found here: https://nipy.org/nibabel/\n",
    "\n",
    "Our dataset sits in two directories - *images* and *labels*. Each image is represented by a single file (we are fortunate to have our data converted to NIFTI) and has a corresponding label file which is named the same as the image file.\n",
    "\n",
    "Note that our dataset is \"dirty\". There are a few images and labels that are not quite right. They should be quite obvious to notice, though. The dataset contains an equal amount of \"correct\" volumes and corresponding labels, and you don't need to alter values of any samples in order to get the clean dataset."
   ]
  },
  {
   "cell_type": "code",
   "execution_count": 2,
   "metadata": {},
   "outputs": [],
   "source": [
    "# TASK: Your data sits in directory /data/TrainingSet.\n",
    "# Load an image and a segmentation mask into variables called image and label\n",
    "img_path = r\"/data/TrainingSet/images\"\n",
    "image = np.array([[(os.path.join(dp, f), nib.load(os.path.join(dp, f))) for f in files]\n",
    "                   for dp,_,files in os.walk(img_path) if len(files) != 0])\n",
    "\n",
    "lab_path = r\"/data/TrainingSet/labels\"\n",
    "label = np.array([[(os.path.join(dp, f), nib.load(os.path.join(dp, f))) for f in files]\n",
    "                   for dp,_,files in os.walk(lab_path) if len(files) != 0])"
   ]
  },
  {
   "cell_type": "code",
   "execution_count": 3,
   "metadata": {},
   "outputs": [
    {
     "data": {
      "text/plain": [
       "(1, 263, 2)"
      ]
     },
     "execution_count": 3,
     "metadata": {},
     "output_type": "execute_result"
    }
   ],
   "source": [
    "image.shape"
   ]
  },
  {
   "cell_type": "code",
   "execution_count": 4,
   "metadata": {},
   "outputs": [],
   "source": [
    "img = nib.load(image[0,0,0])"
   ]
  },
  {
   "cell_type": "code",
   "execution_count": 5,
   "metadata": {},
   "outputs": [
    {
     "data": {
      "text/plain": [
       "(35, 55, 37)"
      ]
     },
     "execution_count": 5,
     "metadata": {},
     "output_type": "execute_result"
    }
   ],
   "source": [
    "#Dimesions of Input Image Array\n",
    "\n",
    "img.shape"
   ]
  },
  {
   "cell_type": "code",
   "execution_count": 6,
   "metadata": {},
   "outputs": [
    {
     "data": {
      "text/plain": [
       "(('image', '.nii'),)"
      ]
     },
     "execution_count": 6,
     "metadata": {},
     "output_type": "execute_result"
    }
   ],
   "source": [
    "img.files_types"
   ]
  },
  {
   "cell_type": "code",
   "execution_count": 7,
   "metadata": {},
   "outputs": [
    {
     "data": {
      "text/plain": [
       "array([[1., 0., 0., 0.],\n",
       "       [0., 1., 0., 0.],\n",
       "       [0., 0., 1., 0.],\n",
       "       [0., 0., 0., 1.]])"
      ]
     },
     "execution_count": 7,
     "metadata": {},
     "output_type": "execute_result"
    }
   ],
   "source": [
    "img.affine"
   ]
  },
  {
   "cell_type": "code",
   "execution_count": 8,
   "metadata": {},
   "outputs": [
    {
     "data": {
      "text/plain": [
       "(1, 262, 2)"
      ]
     },
     "execution_count": 8,
     "metadata": {},
     "output_type": "execute_result"
    }
   ],
   "source": [
    "label.shape"
   ]
  },
  {
   "cell_type": "code",
   "execution_count": 9,
   "metadata": {},
   "outputs": [],
   "source": [
    "lab = nib.load(label[0,0,0])"
   ]
  },
  {
   "cell_type": "code",
   "execution_count": 10,
   "metadata": {},
   "outputs": [
    {
     "data": {
      "text/plain": [
       "(35, 55, 37)"
      ]
     },
     "execution_count": 10,
     "metadata": {},
     "output_type": "execute_result"
    }
   ],
   "source": [
    "#Dimesions of Input Label Array\n",
    "\n",
    "lab.shape"
   ]
  },
  {
   "cell_type": "code",
   "execution_count": 11,
   "metadata": {},
   "outputs": [
    {
     "data": {
      "text/plain": [
       "(('image', '.nii'),)"
      ]
     },
     "execution_count": 11,
     "metadata": {},
     "output_type": "execute_result"
    }
   ],
   "source": [
    "lab.files_types"
   ]
  },
  {
   "cell_type": "code",
   "execution_count": 12,
   "metadata": {},
   "outputs": [
    {
     "data": {
      "text/plain": [
       "array([[1., 0., 0., 0.],\n",
       "       [0., 1., 0., 0.],\n",
       "       [0., 0., 1., 0.],\n",
       "       [0., 0., 0., 1.]])"
      ]
     },
     "execution_count": 12,
     "metadata": {},
     "output_type": "execute_result"
    }
   ],
   "source": [
    "lab.affine"
   ]
  },
  {
   "cell_type": "code",
   "execution_count": 13,
   "metadata": {},
   "outputs": [
    {
     "data": {
      "text/plain": [
       "263"
      ]
     },
     "execution_count": 13,
     "metadata": {},
     "output_type": "execute_result"
    }
   ],
   "source": [
    "image_instances = image[0]\n",
    "len(image_instances)"
   ]
  },
  {
   "cell_type": "code",
   "execution_count": 14,
   "metadata": {},
   "outputs": [
    {
     "data": {
      "text/plain": [
       "262"
      ]
     },
     "execution_count": 14,
     "metadata": {},
     "output_type": "execute_result"
    }
   ],
   "source": [
    "label_instances = label[0]\n",
    "len(label_instances)"
   ]
  },
  {
   "cell_type": "code",
   "execution_count": 15,
   "metadata": {},
   "outputs": [
    {
     "data": {
      "text/plain": [
       "(263, 2)"
      ]
     },
     "execution_count": 15,
     "metadata": {},
     "output_type": "execute_result"
    }
   ],
   "source": [
    "image_instances.shape"
   ]
  },
  {
   "cell_type": "code",
   "execution_count": 16,
   "metadata": {},
   "outputs": [
    {
     "data": {
      "text/plain": [
       "(262, 2)"
      ]
     },
     "execution_count": 16,
     "metadata": {},
     "output_type": "execute_result"
    }
   ],
   "source": [
    "label_instances.shape"
   ]
  },
  {
   "cell_type": "code",
   "execution_count": 17,
   "metadata": {},
   "outputs": [],
   "source": [
    "# Nibabel can present your image data as a Numpy array by calling the method get_fdata()\n",
    "# The array will contain a multi-dimensional Numpy array with numerical values representing voxel intensities. \n",
    "# In our case, images and labels are 3-dimensional, so get_fdata will return a 3-dimensional array. You can verify this\n",
    "# by accessing the .shape attribute. What are the dimensions of the input arrays?\n",
    "\n",
    "image_pixel = []\n",
    "for i in image_instances:\n",
    "    image_pixel.append(nib.load(i[0]).get_fdata())\n",
    "    \n",
    "label_pixel = []\n",
    "for l in label_instances:\n",
    "    label_pixel.append(nib.load(l[0]).get_fdata())\n",
    "\n",
    "\n",
    "# TASK: using matplotlib, visualize a few slices from the dataset, along with their labels. \n",
    "# You can adjust plot sizes like so if you find them too small:\n",
    "# plt.rcParams[\"figure.figsize\"] = (10,10)"
   ]
  },
  {
   "cell_type": "code",
   "execution_count": 18,
   "metadata": {},
   "outputs": [
    {
     "data": {
      "text/plain": [
       "(35, 55, 37)"
      ]
     },
     "execution_count": 18,
     "metadata": {},
     "output_type": "execute_result"
    }
   ],
   "source": [
    "np.shape(image_pixel[0])"
   ]
  },
  {
   "cell_type": "code",
   "execution_count": 19,
   "metadata": {},
   "outputs": [
    {
     "data": {
      "text/plain": [
       "(35, 55, 37)"
      ]
     },
     "execution_count": 19,
     "metadata": {},
     "output_type": "execute_result"
    }
   ],
   "source": [
    "np.shape(label_pixel[0])"
   ]
  },
  {
   "cell_type": "code",
   "execution_count": 20,
   "metadata": {},
   "outputs": [
    {
     "data": {
      "text/plain": [
       "Text(0.5, 1.0, 'Mask')"
      ]
     },
     "execution_count": 20,
     "metadata": {},
     "output_type": "execute_result"
    },
    {
     "data": {
      "image/png": "[encoded data removed]",
      "text/plain": [
       "<Figure size 720x720 with 2 Axes>"
      ]
     },
     "metadata": {
      "needs_background": "light"
     },
     "output_type": "display_data"
    }
   ],
   "source": [
    "fig, (ax1, ax2) = plt.subplots(1,2, figsize = (10, 10))\n",
    "ax1.imshow(image_pixel[0][20,:,:])\n",
    "ax1.set_title('Image')\n",
    "ax2.imshow(label_pixel[0][20,:,:])\n",
    "ax2.set_title('Mask')"
   ]
  },
  {
   "cell_type": "code",
   "execution_count": 21,
   "metadata": {},
   "outputs": [
    {
     "data": {
      "text/plain": [
       "Text(0.5, 1.0, 'Mask')"
      ]
     },
     "execution_count": 21,
     "metadata": {},
     "output_type": "execute_result"
    },
    {
     "data": {
      "image/png": "[encoded data removed]",
      "text/plain": [
       "<Figure size 720x720 with 2 Axes>"
      ]
     },
     "metadata": {
      "needs_background": "light"
     },
     "output_type": "display_data"
    }
   ],
   "source": [
    "fig, (ax1, ax2) = plt.subplots(1,2, figsize = (10, 10))\n",
    "ax1.imshow(image_pixel[0][20,:,:], cmap='gray')\n",
    "ax1.set_title('Image')\n",
    "ax2.imshow(label_pixel[0][20,:,:], cmap='gray')\n",
    "ax2.set_title('Mask')"
   ]
  },
  {
   "cell_type": "code",
   "execution_count": 22,
   "metadata": {},
   "outputs": [
    {
     "data": {
      "text/plain": [
       "Text(0.5, 1.0, 'Mask')"
      ]
     },
     "execution_count": 22,
     "metadata": {},
     "output_type": "execute_result"
    },
    {
     "data": {
      "image/png": "[encoded data removed]",
      "text/plain": [
       "<Figure size 720x720 with 2 Axes>"
      ]
     },
     "metadata": {
      "needs_background": "light"
     },
     "output_type": "display_data"
    }
   ],
   "source": [
    "fig, (ax1, ax2) = plt.subplots(1,2, figsize = (10, 10))\n",
    "ax1.imshow(image_pixel[0][:,20,:], cmap='gray')\n",
    "ax1.set_title('Image')\n",
    "ax2.imshow(label_pixel[0][:,20,:], cmap='gray')\n",
    "ax2.set_title('Mask')"
   ]
  },
  {
   "cell_type": "code",
   "execution_count": 23,
   "metadata": {},
   "outputs": [
    {
     "data": {
      "text/plain": [
       "Text(0.5, 1.0, 'Mask')"
      ]
     },
     "execution_count": 23,
     "metadata": {},
     "output_type": "execute_result"
    },
    {
     "data": {
      "image/png": "[encoded data removed]",
      "text/plain": [
       "<Figure size 720x720 with 2 Axes>"
      ]
     },
     "metadata": {
      "needs_background": "light"
     },
     "output_type": "display_data"
    }
   ],
   "source": [
    "fig, (ax1, ax2) = plt.subplots(1,2, figsize = (10, 10))\n",
    "ax1.imshow(image_pixel[0][:,:,20], cmap='gray')\n",
    "ax1.set_title('Image')\n",
    "ax2.imshow(label_pixel[0][:,:,20], cmap='gray')\n",
    "ax2.set_title('Mask')"
   ]
  },
  {
   "cell_type": "markdown",
   "metadata": {},
   "source": [
    "Load volume into 3D Slicer to validate that your visualization is correct and get a feel for the shape of structures.Try to get a visualization like the one below (hint: while Slicer documentation is not particularly great, there are plenty of YouTube videos available! Just look it up on YouTube if you are not sure how to do something)\n",
    "\n",
    "hippocampus_020.nii.gz Image and Label view in 3D-Slicer\n",
    "\n",
    "![3D slicer](img/Slicer-Image-hippocampus_020.png)\n",
    "![3D slicer](img/Slicer-label-hippocampus_020.png)"
   ]
  },
  {
   "cell_type": "code",
   "execution_count": null,
   "metadata": {},
   "outputs": [],
   "source": [
    "# Stand out suggestion: use one of the simple Volume Rendering algorithms that we've\n",
    "# implemented in one of our earlier lessons to visualize some of these volumes"
   ]
  },
  {
   "cell_type": "markdown",
   "metadata": {},
   "source": [
    "## Looking at single image data\n",
    "In this section we will look closer at the NIFTI representation of our volumes. In order to measure the physical \n",
    "volume of hippocampi, we need to understand the relationship between the sizes of our voxels and the physical world."
   ]
  },
  {
   "cell_type": "code",
   "execution_count": 24,
   "metadata": {
    "scrolled": true
   },
   "outputs": [
    {
     "data": {
      "text/plain": [
       "nibabel.nifti1.Nifti1Header"
      ]
     },
     "execution_count": 24,
     "metadata": {},
     "output_type": "execute_result"
    }
   ],
   "source": [
    "# Nibabel supports many imaging formats, NIFTI being just one of them. I told you that our images \n",
    "# are in NIFTI, but you should confirm if this is indeed the format that we are dealing with\n",
    "# TASK: using .header_class attribute - what is the format of our images?\n",
    "\n",
    "img.header_class"
   ]
  },
  {
   "cell_type": "code",
   "execution_count": 25,
   "metadata": {},
   "outputs": [
    {
     "data": {
      "text/plain": [
       "nibabel.nifti1.Nifti1Header"
      ]
     },
     "execution_count": 25,
     "metadata": {},
     "output_type": "execute_result"
    }
   ],
   "source": [
    "lab.header_class"
   ]
  },
  {
   "cell_type": "markdown",
   "metadata": {},
   "source": [
    "Using header_class we can see that it is in NIFTIL format"
   ]
  },
  {
   "cell_type": "markdown",
   "metadata": {},
   "source": [
    "Further down we will be inspecting .header attribute that provides access to NIFTI metadata. You can use this resource as a reference for various fields: https://brainder.org/2012/09/23/the-nifti-file-format/"
   ]
  },
  {
   "cell_type": "code",
   "execution_count": 26,
   "metadata": {},
   "outputs": [
    {
     "name": "stdout",
     "output_type": "stream",
     "text": [
      "<class 'nibabel.nifti1.Nifti1Header'> object, endian='<'\n",
      "sizeof_hdr      : 348\n",
      "data_type       : b''\n",
      "db_name         : b''\n",
      "extents         : 0\n",
      "session_error   : 0\n",
      "regular         : b'r'\n",
      "dim_info        : 0\n",
      "dim             : [ 3 35 55 37  1  1  1  1]\n",
      "intent_p1       : 0.0\n",
      "intent_p2       : 0.0\n",
      "intent_p3       : 0.0\n",
      "intent_code     : none\n",
      "datatype        : float32\n",
      "bitpix          : 32\n",
      "slice_start     : 0\n",
      "pixdim          : [1. 1. 1. 1. 1. 0. 0. 0.]\n",
      "vox_offset      : 0.0\n",
      "scl_slope       : nan\n",
      "scl_inter       : nan\n",
      "slice_end       : 0\n",
      "slice_code      : unknown\n",
      "xyzt_units      : 10\n",
      "cal_max         : 0.0\n",
      "cal_min         : 0.0\n",
      "slice_duration  : 0.0\n",
      "toffset         : 0.0\n",
      "glmax           : 0\n",
      "glmin           : 0\n",
      "descrip         : b'5.0.10'\n",
      "aux_file        : b'none'\n",
      "qform_code      : scanner\n",
      "sform_code      : scanner\n",
      "quatern_b       : 0.0\n",
      "quatern_c       : 0.0\n",
      "quatern_d       : 0.0\n",
      "qoffset_x       : 0.0\n",
      "qoffset_y       : 0.0\n",
      "qoffset_z       : 0.0\n",
      "srow_x          : [1. 0. 0. 0.]\n",
      "srow_y          : [0. 1. 0. 0.]\n",
      "srow_z          : [0. 0. 1. 0.]\n",
      "intent_name     : b''\n",
      "magic           : b'n+1'\n"
     ]
    }
   ],
   "source": [
    "print(img.header)"
   ]
  },
  {
   "cell_type": "code",
   "execution_count": 27,
   "metadata": {},
   "outputs": [
    {
     "data": {
      "text/plain": [
       "array(32, dtype=int16)"
      ]
     },
     "execution_count": 27,
     "metadata": {},
     "output_type": "execute_result"
    }
   ],
   "source": [
    "# TASK: How many bits per pixel are used?\n",
    "img.header['bitpix']"
   ]
  },
  {
   "cell_type": "markdown",
   "metadata": {},
   "source": [
    "Bits per pixel is 32"
   ]
  },
  {
   "cell_type": "code",
   "execution_count": 28,
   "metadata": {},
   "outputs": [
    {
     "data": {
      "text/plain": [
       "('mm', 'sec')"
      ]
     },
     "execution_count": 28,
     "metadata": {},
     "output_type": "execute_result"
    }
   ],
   "source": [
    "# TASK: What are the units of measurement?\n",
    "img.header.get_xyzt_units()"
   ]
  },
  {
   "cell_type": "markdown",
   "metadata": {},
   "source": [
    "Unite of measurements are mm and sec"
   ]
  },
  {
   "cell_type": "code",
   "execution_count": 29,
   "metadata": {},
   "outputs": [
    {
     "data": {
      "text/plain": [
       "array([1., 1., 1., 1., 1., 0., 0., 0.], dtype=float32)"
      ]
     },
     "execution_count": 29,
     "metadata": {},
     "output_type": "execute_result"
    }
   ],
   "source": [
    "# TASK: Do we have a regular grid? What are grid spacings?\n",
    "img.header['pixdim']   "
   ]
  },
  {
   "cell_type": "markdown",
   "metadata": {},
   "source": [
    "We have regular grid and the grid spacings is [1., 1., 1., 1., 1., 0., 0., 0.] "
   ]
  },
  {
   "cell_type": "code",
   "execution_count": 30,
   "metadata": {},
   "outputs": [
    {
     "data": {
      "text/plain": [
       "array([ 3, 35, 55, 37,  1,  1,  1,  1], dtype=int16)"
      ]
     },
     "execution_count": 30,
     "metadata": {},
     "output_type": "execute_result"
    }
   ],
   "source": [
    "# TASK: What dimensions represent axial, sagittal, and coronal slices? How do you know?\n",
    "img.header['dim']"
   ]
  },
  {
   "cell_type": "markdown",
   "metadata": {},
   "source": [
    "Looging at the header dimensions we can see that sagittal is 35, coronal is 55 and axial is 37"
   ]
  },
  {
   "cell_type": "code",
   "execution_count": 31,
   "metadata": {},
   "outputs": [
    {
     "name": "stdout",
     "output_type": "stream",
     "text": [
      "3581\n"
     ]
    }
   ],
   "source": [
    "# By now you should have enough information to decide what are dimensions of a single voxel\n",
    "# TASK: Compute the volume (in mm³) of a hippocampus using one of the labels you've loaded. \n",
    "# You should get a number between ~2200 and ~4500\n",
    "\n",
    "volume= np.sum(lab.get_fdata() > 0)\n",
    "print(volume)"
   ]
  },
  {
   "cell_type": "markdown",
   "metadata": {},
   "source": [
    "## Plotting some charts"
   ]
  },
  {
   "cell_type": "code",
   "execution_count": 32,
   "metadata": {},
   "outputs": [
    {
     "data": {
      "image/png": "[encoded data removed]",
      "text/plain": [
       "<Figure size 432x288 with 1 Axes>"
      ]
     },
     "metadata": {
      "needs_background": "light"
     },
     "output_type": "display_data"
    }
   ],
   "source": [
    "# TASK: Plot a histogram of all volumes that we have in our dataset and see how \n",
    "# our dataset measures against a slice of a normal population represented by the chart below.\n",
    "\n",
    "volumes=list()\n",
    "for l in range (len(label_instances)):\n",
    "    labels = nib.load(label[0,l,0])\n",
    "    volume = np.sum(labels.get_fdata()>0)\n",
    "    volumes.append(volume)\n",
    "    \n",
    "plt.hist(volumes, 50)\n",
    "plt.show()"
   ]
  },
  {
   "cell_type": "code",
   "execution_count": 33,
   "metadata": {},
   "outputs": [
    {
     "name": "stdout",
     "output_type": "stream",
     "text": [
      "Volume is.. 20702 File is.. /data/TrainingSet/labels/hippocampus_281.nii.gz\n"
     ]
    }
   ],
   "source": [
    "# Finding outlier in labels \n",
    "\n",
    "for l in range (len(label_instances)):\n",
    "    labels = nib.load(label[0][l][0])\n",
    "    volume = np.sum(labels.get_fdata() > 0)\n",
    "    if (volume > 4500  or volume < 2200):\n",
    "        print(\"Volume is.. \"+str(volume), \"File is.. \"+str(label_instances[l][0]))"
   ]
  },
  {
   "cell_type": "markdown",
   "metadata": {},
   "source": [
    "In the above chart we can see that there is one anomaly with volume of 20702 which needs to be removed from this dataset"
   ]
  },
  {
   "cell_type": "code",
   "execution_count": 34,
   "metadata": {},
   "outputs": [
    {
     "name": "stdout",
     "output_type": "stream",
     "text": [
      "['hippocampus_118.nii.gz']\n"
     ]
    }
   ],
   "source": [
    "# Finding the missing label file in /data/TrainingSet/labels\n",
    "\n",
    "imagelist = []\n",
    "for r,d,i in os.walk(\"/data/TrainingSet/images\"):\n",
    "    for imagefiles in i:\n",
    "        if imagefiles.endswith(\".nii.gz\"):\n",
    "             imagelist.append(imagefiles)\n",
    "                \n",
    "labellist = []\n",
    "for r,d,l in os.walk(\"/data/TrainingSet/labels\"):\n",
    "    for labelfiles in l:\n",
    "        if labelfiles.endswith(\".nii.gz\"):\n",
    "             labellist.append(labelfiles)\n",
    "missing_files = [x for x in imagelist if x not in labellist]\n",
    "print(missing_files)"
   ]
  },
  {
   "cell_type": "code",
   "execution_count": 39,
   "metadata": {},
   "outputs": [
    {
     "name": "stdout",
     "output_type": "stream",
     "text": [
      "(34, 48, 40) 65271 /data/TrainingSet/images/hippocampus_210.nii.gz\n"
     ]
    }
   ],
   "source": [
    "#checking for any other outliers in the image files\n",
    "\n",
    "for i in range (len(image_instances)):\n",
    "    img_dim = nib.load(image[0][i][0])\n",
    "    img_volume = np.sum(img_dim.get_fdata()>0)\n",
    "print(img_dim.shape, img_volume, (image_instances[i][0]))"
   ]
  },
  {
   "cell_type": "code",
   "execution_count": 37,
   "metadata": {},
   "outputs": [
    {
     "name": "stdout",
     "output_type": "stream",
     "text": [
      "<class 'nibabel.nifti1.Nifti1Header'> object, endian='<'\n",
      "sizeof_hdr      : 348\n",
      "data_type       : b''\n",
      "db_name         : b''\n",
      "extents         : 0\n",
      "session_error   : 0\n",
      "regular         : b'r'\n",
      "dim_info        : 0\n",
      "dim             : [  3 512 512  31   1   1   1   1]\n",
      "intent_p1       : 0.0\n",
      "intent_p2       : 0.0\n",
      "intent_p3       : 0.0\n",
      "intent_code     : none\n",
      "datatype        : float32\n",
      "bitpix          : 32\n",
      "slice_start     : 0\n",
      "pixdim          : [1.       0.785156 0.785156 7.5      0.       0.       0.       0.      ]\n",
      "vox_offset      : 0.0\n",
      "scl_slope       : nan\n",
      "scl_inter       : nan\n",
      "slice_end       : 0\n",
      "slice_code      : unknown\n",
      "xyzt_units      : 10\n",
      "cal_max         : 0.0\n",
      "cal_min         : 0.0\n",
      "slice_duration  : 0.0\n",
      "toffset         : 0.0\n",
      "glmax           : 0\n",
      "glmin           : 0\n",
      "descrip         : b'5.0.10'\n",
      "aux_file        : b''\n",
      "qform_code      : scanner\n",
      "sform_code      : scanner\n",
      "quatern_b       : 0.0\n",
      "quatern_c       : 0.0\n",
      "quatern_d       : 0.0\n",
      "qoffset_x       : -401.21472\n",
      "qoffset_y       : -401.21472\n",
      "qoffset_z       : 0.0\n",
      "srow_x          : [   0.785156    0.          0.       -401.21472 ]\n",
      "srow_y          : [   0.          0.785156    0.       -401.21472 ]\n",
      "srow_z          : [0.  0.  7.5 0. ]\n",
      "intent_name     : b''\n",
      "magic           : b'n+1'\n"
     ]
    }
   ],
   "source": [
    "# confirming the 3rd outlier image file 'hippocampus_281.nii.gz' by checking header information and dimesnion\n",
    "\n",
    "image_filename = os.path.join(r\"/data/TrainingSet/images\", 'hippocampus_281.nii.gz')\n",
    "image_check = nib.load(image_filename)\n",
    "print(image_check.header)"
   ]
  },
  {
   "cell_type": "code",
   "execution_count": 38,
   "metadata": {},
   "outputs": [
    {
     "name": "stdout",
     "output_type": "stream",
     "text": [
      "<class 'nibabel.nifti1.Nifti1Header'> object, endian='<'\n",
      "sizeof_hdr      : 348\n",
      "data_type       : b''\n",
      "db_name         : b''\n",
      "extents         : 0\n",
      "session_error   : 0\n",
      "regular         : b'r'\n",
      "dim_info        : 0\n",
      "dim             : [  3 512 512 241   1   1   1   1]\n",
      "intent_p1       : 0.0\n",
      "intent_p2       : 0.0\n",
      "intent_p3       : 0.0\n",
      "intent_code     : none\n",
      "datatype        : float32\n",
      "bitpix          : 32\n",
      "slice_start     : 0\n",
      "pixdim          : [-1.        0.597656  0.597656  1.25      0.        0.        0.\n",
      "  0.      ]\n",
      "vox_offset      : 0.0\n",
      "scl_slope       : nan\n",
      "scl_inter       : nan\n",
      "slice_end       : 0\n",
      "slice_code      : unknown\n",
      "xyzt_units      : 10\n",
      "cal_max         : 0.0\n",
      "cal_min         : 0.0\n",
      "slice_duration  : 0.0\n",
      "toffset         : 0.0\n",
      "glmax           : 0\n",
      "glmin           : 0\n",
      "descrip         : b'5.0.10'\n",
      "aux_file        : b''\n",
      "qform_code      : scanner\n",
      "sform_code      : scanner\n",
      "quatern_b       : 0.0\n",
      "quatern_c       : 1.0\n",
      "quatern_d       : 0.0\n",
      "qoffset_x       : 144.2\n",
      "qoffset_y       : -152.40222\n",
      "qoffset_z       : -283.0\n",
      "srow_x          : [ -0.597656   0.         0.       144.2     ]\n",
      "srow_y          : [   0.          0.597656    0.       -152.40222 ]\n",
      "srow_z          : [   0.      0.      1.25 -283.  ]\n",
      "intent_name     : b''\n",
      "magic           : b'n+1'\n"
     ]
    }
   ],
   "source": [
    "# confirming the 3rd outlier image file 'hippocampus_010.nii.gz' by checking header information and dimesnion\n",
    "\n",
    "image_filename = os.path.join(r\"/data/TrainingSet/images\", 'hippocampus_010.nii.gz')\n",
    "image_check = nib.load(image_filename)\n",
    "print(image_check.header)"
   ]
  },
  {
   "cell_type": "code",
   "execution_count": 40,
   "metadata": {},
   "outputs": [
    {
     "name": "stdout",
     "output_type": "stream",
     "text": [
      "(35, 55, 37) 3581 /data/TrainingSet/labels/hippocampus_376.nii.gz\n",
      "(34, 49, 29) 3023 /data/TrainingSet/labels/hippocampus_165.nii.gz\n",
      "(37, 45, 46) 3172 /data/TrainingSet/labels/hippocampus_286.nii.gz\n",
      "(36, 53, 37) 3994 /data/TrainingSet/labels/hippocampus_152.nii.gz\n",
      "(35, 50, 36) 2920 /data/TrainingSet/labels/hippocampus_176.nii.gz\n",
      "(34, 47, 39) 3340 /data/TrainingSet/labels/hippocampus_096.nii.gz\n",
      "(36, 40, 43) 3000 /data/TrainingSet/labels/hippocampus_068.nii.gz\n",
      "(35, 49, 36) 2738 /data/TrainingSet/labels/hippocampus_289.nii.gz\n",
      "(35, 53, 29) 3097 /data/TrainingSet/labels/hippocampus_260.nii.gz\n",
      "(35, 56, 28) 3674 /data/TrainingSet/labels/hippocampus_171.nii.gz\n",
      "(35, 54, 35) 3918 /data/TrainingSet/labels/hippocampus_296.nii.gz\n",
      "(38, 43, 41) 2697 /data/TrainingSet/labels/hippocampus_142.nii.gz\n",
      "(32, 54, 34) 3222 /data/TrainingSet/labels/hippocampus_375.nii.gz\n",
      "(37, 48, 34) 2753 /data/TrainingSet/labels/hippocampus_097.nii.gz\n",
      "(35, 53, 35) 3660 /data/TrainingSet/labels/hippocampus_064.nii.gz\n",
      "(36, 53, 37) 3940 /data/TrainingSet/labels/hippocampus_108.nii.gz\n",
      "(37, 50, 38) 3450 /data/TrainingSet/labels/hippocampus_070.nii.gz\n",
      "(34, 53, 32) 3675 /data/TrainingSet/labels/hippocampus_329.nii.gz\n",
      "(35, 55, 34) 3946 /data/TrainingSet/labels/hippocampus_107.nii.gz\n",
      "(37, 50, 40) 4001 /data/TrainingSet/labels/hippocampus_090.nii.gz\n",
      "(38, 49, 28) 3142 /data/TrainingSet/labels/hippocampus_092.nii.gz\n",
      "(37, 51, 33) 3516 /data/TrainingSet/labels/hippocampus_318.nii.gz\n",
      "(33, 46, 38) 2635 /data/TrainingSet/labels/hippocampus_333.nii.gz\n",
      "(32, 53, 38) 3229 /data/TrainingSet/labels/hippocampus_123.nii.gz\n",
      "(34, 51, 32) 3195 /data/TrainingSet/labels/hippocampus_037.nii.gz\n",
      "(35, 51, 35) 3568 /data/TrainingSet/labels/hippocampus_023.nii.gz\n",
      "(35, 55, 33) 3997 /data/TrainingSet/labels/hippocampus_330.nii.gz\n",
      "(38, 48, 39) 3877 /data/TrainingSet/labels/hippocampus_374.nii.gz\n",
      "(35, 46, 42) 3435 /data/TrainingSet/labels/hippocampus_380.nii.gz\n",
      "(41, 47, 42) 3733 /data/TrainingSet/labels/hippocampus_056.nii.gz\n",
      "(36, 52, 37) 3445 /data/TrainingSet/labels/hippocampus_040.nii.gz\n",
      "(38, 55, 31) 3749 /data/TrainingSet/labels/hippocampus_127.nii.gz\n",
      "(36, 47, 44) 3503 /data/TrainingSet/labels/hippocampus_163.nii.gz\n",
      "(36, 51, 32) 3522 /data/TrainingSet/labels/hippocampus_146.nii.gz\n",
      "(38, 49, 38) 3831 /data/TrainingSet/labels/hippocampus_050.nii.gz\n",
      "(34, 50, 32) 2382 /data/TrainingSet/labels/hippocampus_279.nii.gz\n",
      "(37, 48, 37) 3820 /data/TrainingSet/labels/hippocampus_224.nii.gz\n",
      "(31, 50, 36) 3460 /data/TrainingSet/labels/hippocampus_301.nii.gz\n",
      "(34, 51, 26) 3146 /data/TrainingSet/labels/hippocampus_160.nii.gz\n",
      "(38, 51, 35) 3679 /data/TrainingSet/labels/hippocampus_352.nii.gz\n",
      "(38, 50, 39) 3704 /data/TrainingSet/labels/hippocampus_114.nii.gz\n",
      "(34, 51, 38) 3686 /data/TrainingSet/labels/hippocampus_089.nii.gz\n",
      "(32, 47, 32) 2704 /data/TrainingSet/labels/hippocampus_205.nii.gz\n",
      "(36, 50, 36) 3628 /data/TrainingSet/labels/hippocampus_026.nii.gz\n",
      "(33, 53, 26) 2475 /data/TrainingSet/labels/hippocampus_225.nii.gz\n",
      "(35, 53, 36) 3628 /data/TrainingSet/labels/hippocampus_295.nii.gz\n",
      "(36, 48, 37) 2868 /data/TrainingSet/labels/hippocampus_045.nii.gz\n",
      "(38, 51, 33) 3252 /data/TrainingSet/labels/hippocampus_390.nii.gz\n",
      "(32, 47, 41) 3048 /data/TrainingSet/labels/hippocampus_075.nii.gz\n",
      "(38, 51, 31) 3377 /data/TrainingSet/labels/hippocampus_197.nii.gz\n",
      "(35, 55, 32) 3707 /data/TrainingSet/labels/hippocampus_087.nii.gz\n",
      "(35, 50, 36) 3398 /data/TrainingSet/labels/hippocampus_370.nii.gz\n",
      "(34, 47, 43) 2593 /data/TrainingSet/labels/hippocampus_336.nii.gz\n",
      "(36, 53, 33) 3536 /data/TrainingSet/labels/hippocampus_145.nii.gz\n",
      "(35, 47, 37) 3450 /data/TrainingSet/labels/hippocampus_035.nii.gz\n",
      "(33, 53, 28) 3661 /data/TrainingSet/labels/hippocampus_195.nii.gz\n",
      "(35, 48, 40) 3397 /data/TrainingSet/labels/hippocampus_385.nii.gz\n",
      "(35, 53, 30) 3455 /data/TrainingSet/labels/hippocampus_189.nii.gz\n",
      "(39, 52, 31) 3409 /data/TrainingSet/labels/hippocampus_060.nii.gz\n",
      "(36, 50, 40) 3251 /data/TrainingSet/labels/hippocampus_132.nii.gz\n",
      "(36, 50, 33) 3105 /data/TrainingSet/labels/hippocampus_361.nii.gz\n",
      "(37, 55, 34) 3947 /data/TrainingSet/labels/hippocampus_174.nii.gz\n",
      "(37, 49, 34) 3088 /data/TrainingSet/labels/hippocampus_150.nii.gz\n",
      "(38, 50, 38) 4029 /data/TrainingSet/labels/hippocampus_094.nii.gz\n",
      "(37, 51, 33) 3095 /data/TrainingSet/labels/hippocampus_316.nii.gz\n",
      "(32, 49, 30) 2980 /data/TrainingSet/labels/hippocampus_345.nii.gz\n",
      "(38, 48, 40) 3654 /data/TrainingSet/labels/hippocampus_308.nii.gz\n",
      "(35, 51, 36) 3431 /data/TrainingSet/labels/hippocampus_250.nii.gz\n",
      "(35, 48, 42) 3325 /data/TrainingSet/labels/hippocampus_245.nii.gz\n",
      "(33, 47, 37) 3160 /data/TrainingSet/labels/hippocampus_105.nii.gz\n",
      "(34, 53, 34) 3658 /data/TrainingSet/labels/hippocampus_039.nii.gz\n",
      "(36, 50, 34) 3483 /data/TrainingSet/labels/hippocampus_372.nii.gz\n",
      "(34, 52, 35) 3353 /data/TrainingSet/labels/hippocampus_003.nii.gz\n",
      "(33, 51, 28) 2920 /data/TrainingSet/labels/hippocampus_259.nii.gz\n",
      "(35, 46, 38) 3210 /data/TrainingSet/labels/hippocampus_340.nii.gz\n",
      "(37, 45, 39) 2830 /data/TrainingSet/labels/hippocampus_219.nii.gz\n",
      "(35, 46, 39) 3856 /data/TrainingSet/labels/hippocampus_302.nii.gz\n",
      "(37, 47, 34) 3979 /data/TrainingSet/labels/hippocampus_366.nii.gz\n",
      "(35, 48, 35) 3326 /data/TrainingSet/labels/hippocampus_025.nii.gz\n",
      "(36, 47, 41) 3356 /data/TrainingSet/labels/hippocampus_019.nii.gz\n",
      "(36, 49, 36) 3219 /data/TrainingSet/labels/hippocampus_109.nii.gz\n",
      "(32, 54, 34) 3202 /data/TrainingSet/labels/hippocampus_299.nii.gz\n",
      "(34, 53, 37) 3555 /data/TrainingSet/labels/hippocampus_155.nii.gz\n",
      "(33, 49, 37) 3152 /data/TrainingSet/labels/hippocampus_381.nii.gz\n",
      "(35, 51, 34) 2773 /data/TrainingSet/labels/hippocampus_057.nii.gz\n",
      "(35, 44, 44) 3248 /data/TrainingSet/labels/hippocampus_294.nii.gz\n",
      "(33, 48, 38) 3423 /data/TrainingSet/labels/hippocampus_033.nii.gz\n",
      "(34, 49, 35) 3689 /data/TrainingSet/labels/hippocampus_373.nii.gz\n",
      "(36, 44, 43) 2863 /data/TrainingSet/labels/hippocampus_232.nii.gz\n",
      "(36, 49, 31) 3027 /data/TrainingSet/labels/hippocampus_166.nii.gz\n",
      "(34, 49, 30) 3029 /data/TrainingSet/labels/hippocampus_305.nii.gz\n",
      "(33, 51, 37) 3167 /data/TrainingSet/labels/hippocampus_233.nii.gz\n",
      "(32, 52, 34) 3349 /data/TrainingSet/labels/hippocampus_249.nii.gz\n",
      "(34, 49, 38) 2827 /data/TrainingSet/labels/hippocampus_203.nii.gz\n",
      "(36, 51, 31) 3682 /data/TrainingSet/labels/hippocampus_393.nii.gz\n",
      "(36, 58, 28) 3575 /data/TrainingSet/labels/hippocampus_251.nii.gz\n",
      "(34, 48, 35) 2588 /data/TrainingSet/labels/hippocampus_341.nii.gz\n",
      "(37, 50, 39) 3700 /data/TrainingSet/labels/hippocampus_287.nii.gz\n",
      "(39, 44, 43) 3145 /data/TrainingSet/labels/hippocampus_126.nii.gz\n",
      "(35, 49, 40) 3285 /data/TrainingSet/labels/hippocampus_130.nii.gz\n",
      "(38, 52, 36) 3412 /data/TrainingSet/labels/hippocampus_158.nii.gz\n",
      "(33, 49, 32) 3143 /data/TrainingSet/labels/hippocampus_149.nii.gz\n",
      "(37, 52, 30) 3309 /data/TrainingSet/labels/hippocampus_190.nii.gz\n",
      "(34, 52, 37) 3150 /data/TrainingSet/labels/hippocampus_084.nii.gz\n",
      "(35, 49, 37) 3439 /data/TrainingSet/labels/hippocampus_269.nii.gz\n",
      "(34, 51, 33) 2863 /data/TrainingSet/labels/hippocampus_257.nii.gz\n",
      "(36, 42, 41) 2811 /data/TrainingSet/labels/hippocampus_067.nii.gz\n",
      "(34, 49, 39) 3785 /data/TrainingSet/labels/hippocampus_095.nii.gz\n",
      "(37, 50, 33) 2857 /data/TrainingSet/labels/hippocampus_298.nii.gz\n",
      "(33, 51, 32) 3080 /data/TrainingSet/labels/hippocampus_387.nii.gz\n",
      "(37, 55, 26) 3575 /data/TrainingSet/labels/hippocampus_252.nii.gz\n",
      "(34, 46, 38) 3092 /data/TrainingSet/labels/hippocampus_106.nii.gz\n",
      "(36, 52, 38) 3698 /data/TrainingSet/labels/hippocampus_004.nii.gz\n",
      "(37, 58, 35) 3040 /data/TrainingSet/labels/hippocampus_235.nii.gz\n",
      "(35, 52, 34) 2757 /data/TrainingSet/labels/hippocampus_378.nii.gz\n",
      "(35, 50, 30) 2894 /data/TrainingSet/labels/hippocampus_194.nii.gz\n",
      "(34, 53, 37) 3742 /data/TrainingSet/labels/hippocampus_093.nii.gz\n",
      "(35, 48, 32) 3478 /data/TrainingSet/labels/hippocampus_017.nii.gz\n",
      "(36, 57, 37) 4151 /data/TrainingSet/labels/hippocampus_367.nii.gz\n",
      "(35, 49, 33) 3113 /data/TrainingSet/labels/hippocampus_185.nii.gz\n",
      "(34, 46, 34) 2950 /data/TrainingSet/labels/hippocampus_321.nii.gz\n",
      "(38, 52, 33) 4030 /data/TrainingSet/labels/hippocampus_024.nii.gz\n",
      "(36, 51, 34) 3763 /data/TrainingSet/labels/hippocampus_041.nii.gz\n",
      "(38, 51, 37) 3420 /data/TrainingSet/labels/hippocampus_162.nii.gz\n",
      "(32, 46, 42) 2534 /data/TrainingSet/labels/hippocampus_138.nii.gz\n",
      "(34, 53, 24) 2956 /data/TrainingSet/labels/hippocampus_243.nii.gz\n",
      "(37, 43, 43) 3623 /data/TrainingSet/labels/hippocampus_338.nii.gz\n",
      "(38, 52, 29) 3272 /data/TrainingSet/labels/hippocampus_048.nii.gz\n",
      "(35, 52, 33) 3194 /data/TrainingSet/labels/hippocampus_331.nii.gz\n",
      "(34, 47, 36) 2678 /data/TrainingSet/labels/hippocampus_334.nii.gz\n",
      "(38, 53, 27) 3102 /data/TrainingSet/labels/hippocampus_217.nii.gz\n",
      "(37, 52, 32) 2416 /data/TrainingSet/labels/hippocampus_282.nii.gz\n",
      "(37, 48, 36) 3671 /data/TrainingSet/labels/hippocampus_228.nii.gz\n",
      "(33, 44, 41) 3253 /data/TrainingSet/labels/hippocampus_337.nii.gz\n",
      "(38, 55, 40) 4401 /data/TrainingSet/labels/hippocampus_368.nii.gz\n",
      "(32, 51, 28) 2546 /data/TrainingSet/labels/hippocampus_226.nii.gz\n",
      "(34, 53, 36) 3127 /data/TrainingSet/labels/hippocampus_058.nii.gz\n",
      "(39, 50, 40) 3622 /data/TrainingSet/labels/hippocampus_014.nii.gz\n",
      "(36, 52, 32) 3814 /data/TrainingSet/labels/hippocampus_394.nii.gz\n",
      "(40, 52, 35) 3878 /data/TrainingSet/labels/hippocampus_088.nii.gz\n",
      "(34, 52, 38) 3612 /data/TrainingSet/labels/hippocampus_309.nii.gz\n",
      "(36, 51, 29) 3061 /data/TrainingSet/labels/hippocampus_091.nii.gz\n",
      "(36, 47, 39) 3509 /data/TrainingSet/labels/hippocampus_036.nii.gz\n",
      "(34, 47, 40) 3372 /data/TrainingSet/labels/hippocampus_007.nii.gz\n",
      "(38, 50, 42) 3845 /data/TrainingSet/labels/hippocampus_288.nii.gz\n",
      "(32, 49, 36) 3442 /data/TrainingSet/labels/hippocampus_216.nii.gz\n",
      "(36, 50, 38) 3438 /data/TrainingSet/labels/hippocampus_248.nii.gz\n",
      "(36, 47, 36) 3536 /data/TrainingSet/labels/hippocampus_227.nii.gz\n",
      "(35, 52, 33) 3327 /data/TrainingSet/labels/hippocampus_332.nii.gz\n",
      "(33, 52, 27) 2535 /data/TrainingSet/labels/hippocampus_099.nii.gz\n",
      "(38, 49, 36) 3216 /data/TrainingSet/labels/hippocampus_234.nii.gz\n",
      "(34, 52, 40) 3361 /data/TrainingSet/labels/hippocampus_052.nii.gz\n",
      "(37, 52, 26) 2570 /data/TrainingSet/labels/hippocampus_199.nii.gz\n",
      "(36, 45, 39) 2859 /data/TrainingSet/labels/hippocampus_169.nii.gz\n",
      "(37, 47, 32) 2613 /data/TrainingSet/labels/hippocampus_280.nii.gz\n",
      "(36, 46, 43) 3611 /data/TrainingSet/labels/hippocampus_020.nii.gz\n",
      "(31, 54, 34) 3109 /data/TrainingSet/labels/hippocampus_265.nii.gz\n",
      "(32, 49, 38) 2629 /data/TrainingSet/labels/hippocampus_135.nii.gz\n",
      "(35, 56, 34) 3582 /data/TrainingSet/labels/hippocampus_212.nii.gz\n",
      "(33, 47, 35) 2739 /data/TrainingSet/labels/hippocampus_175.nii.gz\n",
      "(39, 41, 42) 3409 /data/TrainingSet/labels/hippocampus_133.nii.gz\n",
      "(35, 52, 34) 4263 /data/TrainingSet/labels/hippocampus_006.nii.gz\n",
      "(42, 51, 28) 2819 /data/TrainingSet/labels/hippocampus_015.nii.gz\n",
      "(34, 49, 37) 2931 /data/TrainingSet/labels/hippocampus_360.nii.gz\n",
      "(38, 47, 37) 3450 /data/TrainingSet/labels/hippocampus_322.nii.gz\n",
      "(36, 52, 32) 3594 /data/TrainingSet/labels/hippocampus_101.nii.gz\n",
      "(34, 45, 43) 2471 /data/TrainingSet/labels/hippocampus_144.nii.gz\n",
      "(37, 49, 37) 3201 /data/TrainingSet/labels/hippocampus_311.nii.gz\n",
      "(37, 56, 36) 3987 /data/TrainingSet/labels/hippocampus_238.nii.gz\n",
      "(35, 51, 35) 2948 /data/TrainingSet/labels/hippocampus_001.nii.gz\n",
      "(36, 58, 33) 4071 /data/TrainingSet/labels/hippocampus_261.nii.gz\n",
      "(35, 53, 33) 4074 /data/TrainingSet/labels/hippocampus_207.nii.gz\n",
      "(37, 51, 33) 3605 /data/TrainingSet/labels/hippocampus_184.nii.gz\n",
      "(38, 48, 33) 3220 /data/TrainingSet/labels/hippocampus_044.nii.gz\n",
      "(37, 45, 40) 3208 /data/TrainingSet/labels/hippocampus_386.nii.gz\n",
      "(35, 49, 40) 3167 /data/TrainingSet/labels/hippocampus_290.nii.gz\n",
      "(35, 52, 38) 3773 /data/TrainingSet/labels/hippocampus_310.nii.gz\n",
      "(34, 48, 32) 2945 /data/TrainingSet/labels/hippocampus_148.nii.gz\n",
      "(33, 47, 42) 2647 /data/TrainingSet/labels/hippocampus_231.nii.gz\n",
      "(35, 44, 41) 2714 /data/TrainingSet/labels/hippocampus_178.nii.gz\n",
      "(38, 51, 37) 3842 /data/TrainingSet/labels/hippocampus_264.nii.gz\n",
      "(35, 50, 34) 2887 /data/TrainingSet/labels/hippocampus_358.nii.gz\n",
      "(35, 50, 33) 3643 /data/TrainingSet/labels/hippocampus_276.nii.gz\n",
      "(38, 52, 35) 3506 /data/TrainingSet/labels/hippocampus_363.nii.gz\n",
      "(33, 50, 29) 2708 /data/TrainingSet/labels/hippocampus_193.nii.gz\n",
      "(36, 48, 39) 2873 /data/TrainingSet/labels/hippocampus_204.nii.gz\n",
      "(34, 49, 32) 2947 /data/TrainingSet/labels/hippocampus_389.nii.gz\n"
     ]
    },
    {
     "name": "stdout",
     "output_type": "stream",
     "text": [
      "(32, 45, 38) 2618 /data/TrainingSet/labels/hippocampus_343.nii.gz\n",
      "(34, 49, 37) 3165 /data/TrainingSet/labels/hippocampus_230.nii.gz\n",
      "(35, 49, 34) 2942 /data/TrainingSet/labels/hippocampus_350.nii.gz\n",
      "(43, 42, 39) 2726 /data/TrainingSet/labels/hippocampus_125.nii.gz\n",
      "(33, 54, 39) 3109 /data/TrainingSet/labels/hippocampus_051.nii.gz\n",
      "(36, 48, 38) 3536 /data/TrainingSet/labels/hippocampus_304.nii.gz\n",
      "(37, 54, 36) 3374 /data/TrainingSet/labels/hippocampus_188.nii.gz\n",
      "(32, 45, 41) 2397 /data/TrainingSet/labels/hippocampus_143.nii.gz\n",
      "(32, 51, 31) 2755 /data/TrainingSet/labels/hippocampus_353.nii.gz\n",
      "(39, 52, 37) 3650 /data/TrainingSet/labels/hippocampus_065.nii.gz\n",
      "(35, 53, 39) 3817 /data/TrainingSet/labels/hippocampus_104.nii.gz\n",
      "(35, 51, 35) 3724 /data/TrainingSet/labels/hippocampus_351.nii.gz\n",
      "(36, 48, 40) 3248 /data/TrainingSet/labels/hippocampus_008.nii.gz\n",
      "(512, 512, 94) 20702 /data/TrainingSet/labels/hippocampus_281.nii.gz\n",
      "(33, 51, 34) 3285 /data/TrainingSet/labels/hippocampus_317.nii.gz\n",
      "(37, 57, 35) 3089 /data/TrainingSet/labels/hippocampus_236.nii.gz\n",
      "(34, 48, 40) 2870 /data/TrainingSet/labels/hippocampus_170.nii.gz\n",
      "(35, 47, 45) 3718 /data/TrainingSet/labels/hippocampus_077.nii.gz\n",
      "(35, 53, 32) 3557 /data/TrainingSet/labels/hippocampus_173.nii.gz\n",
      "(35, 51, 36) 3728 /data/TrainingSet/labels/hippocampus_049.nii.gz\n",
      "(38, 52, 33) 3479 /data/TrainingSet/labels/hippocampus_292.nii.gz\n",
      "(33, 50, 35) 3177 /data/TrainingSet/labels/hippocampus_229.nii.gz\n",
      "(32, 47, 41) 2532 /data/TrainingSet/labels/hippocampus_335.nii.gz\n",
      "(34, 51, 31) 3823 /data/TrainingSet/labels/hippocampus_253.nii.gz\n",
      "(36, 51, 35) 3534 /data/TrainingSet/labels/hippocampus_263.nii.gz\n",
      "(37, 53, 33) 2943 /data/TrainingSet/labels/hippocampus_314.nii.gz\n",
      "(33, 47, 38) 3335 /data/TrainingSet/labels/hippocampus_355.nii.gz\n",
      "(32, 48, 34) 2448 /data/TrainingSet/labels/hippocampus_221.nii.gz\n",
      "(33, 47, 34) 2451 /data/TrainingSet/labels/hippocampus_320.nii.gz\n",
      "(36, 50, 31) 3456 /data/TrainingSet/labels/hippocampus_011.nii.gz\n",
      "(37, 48, 34) 2890 /data/TrainingSet/labels/hippocampus_098.nii.gz\n",
      "(35, 51, 36) 3717 /data/TrainingSet/labels/hippocampus_161.nii.gz\n",
      "(36, 55, 32) 3955 /data/TrainingSet/labels/hippocampus_102.nii.gz\n",
      "(35, 46, 42) 3257 /data/TrainingSet/labels/hippocampus_154.nii.gz\n",
      "(36, 51, 35) 3352 /data/TrainingSet/labels/hippocampus_157.nii.gz\n",
      "(35, 40, 40) 2665 /data/TrainingSet/labels/hippocampus_274.nii.gz\n",
      "(36, 54, 27) 3643 /data/TrainingSet/labels/hippocampus_327.nii.gz\n",
      "(34, 51, 30) 2786 /data/TrainingSet/labels/hippocampus_297.nii.gz\n",
      "(35, 49, 33) 3333 /data/TrainingSet/labels/hippocampus_215.nii.gz\n",
      "(37, 47, 42) 3000 /data/TrainingSet/labels/hippocampus_074.nii.gz\n",
      "(38, 52, 34) 4383 /data/TrainingSet/labels/hippocampus_242.nii.gz\n",
      "(33, 48, 34) 2422 /data/TrainingSet/labels/hippocampus_319.nii.gz\n",
      "(36, 49, 38) 3292 /data/TrainingSet/labels/hippocampus_046.nii.gz\n",
      "(36, 49, 40) 3375 /data/TrainingSet/labels/hippocampus_034.nii.gz\n",
      "(35, 52, 37) 3502 /data/TrainingSet/labels/hippocampus_223.nii.gz\n",
      "(38, 54, 30) 3957 /data/TrainingSet/labels/hippocampus_328.nii.gz\n",
      "(37, 51, 35) 3558 /data/TrainingSet/labels/hippocampus_038.nii.gz\n",
      "(37, 45, 36) 2678 /data/TrainingSet/labels/hippocampus_180.nii.gz\n",
      "(39, 45, 40) 2930 /data/TrainingSet/labels/hippocampus_220.nii.gz\n",
      "(33, 55, 29) 3420 /data/TrainingSet/labels/hippocampus_383.nii.gz\n",
      "(38, 53, 30) 3208 /data/TrainingSet/labels/hippocampus_244.nii.gz\n",
      "(33, 59, 29) 3304 /data/TrainingSet/labels/hippocampus_277.nii.gz\n",
      "(33, 52, 37) 3371 /data/TrainingSet/labels/hippocampus_083.nii.gz\n",
      "(36, 50, 31) 3456 /data/TrainingSet/labels/hippocampus_010.nii.gz\n",
      "(37, 52, 34) 3847 /data/TrainingSet/labels/hippocampus_042.nii.gz\n",
      "(34, 50, 34) 2590 /data/TrainingSet/labels/hippocampus_349.nii.gz\n",
      "(34, 53, 35) 3404 /data/TrainingSet/labels/hippocampus_300.nii.gz\n",
      "(41, 48, 47) 3869 /data/TrainingSet/labels/hippocampus_164.nii.gz\n",
      "(35, 48, 38) 3294 /data/TrainingSet/labels/hippocampus_303.nii.gz\n",
      "(36, 49, 41) 3983 /data/TrainingSet/labels/hippocampus_326.nii.gz\n",
      "(35, 55, 41) 3137 /data/TrainingSet/labels/hippocampus_124.nii.gz\n",
      "(34, 51, 37) 3054 /data/TrainingSet/labels/hippocampus_268.nii.gz\n",
      "(34, 49, 36) 2684 /data/TrainingSet/labels/hippocampus_222.nii.gz\n",
      "(37, 51, 35) 3519 /data/TrainingSet/labels/hippocampus_053.nii.gz\n",
      "(34, 56, 31) 3923 /data/TrainingSet/labels/hippocampus_172.nii.gz\n",
      "(36, 52, 36) 3600 /data/TrainingSet/labels/hippocampus_156.nii.gz\n",
      "(34, 49, 41) 2813 /data/TrainingSet/labels/hippocampus_136.nii.gz\n",
      "(33, 44, 40) 2593 /data/TrainingSet/labels/hippocampus_177.nii.gz\n",
      "(33, 49, 40) 3692 /data/TrainingSet/labels/hippocampus_181.nii.gz\n",
      "(36, 50, 32) 2912 /data/TrainingSet/labels/hippocampus_354.nii.gz\n",
      "(35, 49, 35) 2634 /data/TrainingSet/labels/hippocampus_359.nii.gz\n",
      "(33, 44, 42) 2714 /data/TrainingSet/labels/hippocampus_141.nii.gz\n",
      "(36, 51, 37) 3496 /data/TrainingSet/labels/hippocampus_356.nii.gz\n",
      "(35, 51, 40) 3834 /data/TrainingSet/labels/hippocampus_325.nii.gz\n",
      "(34, 48, 40) 2995 /data/TrainingSet/labels/hippocampus_210.nii.gz\n"
     ]
    }
   ],
   "source": [
    "#checking for any other outliers in the label files\n",
    "\n",
    "for l in range (len(label_instances)):\n",
    "    lab_dim = nib.load(label[0][l][0])\n",
    "    lab_volume = np.sum(lab_dim.get_fdata()>0)\n",
    "    print(lab_dim.shape, lab_volume, (label_instances[l][0]))"
   ]
  },
  {
   "cell_type": "markdown",
   "metadata": {},
   "source": [
    "From the above we can see that the dimesion of the image dimension is 3 512 512 241 which is not in line with other images in the dataset"
   ]
  },
  {
   "cell_type": "code",
   "execution_count": 41,
   "metadata": {},
   "outputs": [
    {
     "name": "stdout",
     "output_type": "stream",
     "text": [
      "<class 'nibabel.nifti1.Nifti1Header'> object, endian='<'\n",
      "sizeof_hdr      : 348\n",
      "data_type       : b''\n",
      "db_name         : b''\n",
      "extents         : 0\n",
      "session_error   : 0\n",
      "regular         : b'r'\n",
      "dim_info        : 0\n",
      "dim             : [ 3 36 50 31  1  1  1  1]\n",
      "intent_p1       : 0.0\n",
      "intent_p2       : 0.0\n",
      "intent_p3       : 0.0\n",
      "intent_code     : none\n",
      "datatype        : uint8\n",
      "bitpix          : 8\n",
      "slice_start     : 0\n",
      "pixdim          : [1. 1. 1. 1. 1. 0. 0. 0.]\n",
      "vox_offset      : 0.0\n",
      "scl_slope       : nan\n",
      "scl_inter       : nan\n",
      "slice_end       : 0\n",
      "slice_code      : unknown\n",
      "xyzt_units      : 10\n",
      "cal_max         : 0.0\n",
      "cal_min         : 0.0\n",
      "slice_duration  : 0.0\n",
      "toffset         : 0.0\n",
      "glmax           : 0\n",
      "glmin           : 0\n",
      "descrip         : b'5.0.10'\n",
      "aux_file        : b'none'\n",
      "qform_code      : scanner\n",
      "sform_code      : scanner\n",
      "quatern_b       : 0.0\n",
      "quatern_c       : 0.0\n",
      "quatern_d       : 0.0\n",
      "qoffset_x       : 1.0\n",
      "qoffset_y       : 1.0\n",
      "qoffset_z       : 1.0\n",
      "srow_x          : [1. 0. 0. 1.]\n",
      "srow_y          : [0. 1. 0. 1.]\n",
      "srow_z          : [0. 0. 1. 1.]\n",
      "intent_name     : b''\n",
      "magic           : b'n+1'\n"
     ]
    }
   ],
   "source": [
    "# confirming the 3rd outlier label file 'hippocampus_010.nii.gz' by checking header information and dimesnion\n",
    "\n",
    "label_filename = os.path.join(r\"/data/TrainingSet/labels/\", 'hippocampus_010.nii.gz')\n",
    "label_check = nib.load(label_filename)\n",
    "print(label_check.header)"
   ]
  },
  {
   "cell_type": "markdown",
   "metadata": {},
   "source": [
    "We can see that following images files are outliers in image directory\n",
    "\n",
    "1) hippocampus_118.nii.gz\n",
    "\n",
    "2) hippocampus_281.nii.gz\n",
    "\n",
    "3) hippocampus_010.nii.gz"
   ]
  },
  {
   "cell_type": "code",
   "execution_count": 43,
   "metadata": {},
   "outputs": [],
   "source": [
    "#Copying the Image Dataset to Output Folder \n",
    "\n",
    "orginal_image = r\"/data/TrainingSet/images\"\n",
    "target_image = r\"/home/workspace/out/images\"\n",
    "for imagefile in glob.iglob(os.path.join(orginal_image, \"*.nii.gz\")):\n",
    "    shutil.copy(imagefile, target_image)"
   ]
  },
  {
   "cell_type": "code",
   "execution_count": 44,
   "metadata": {},
   "outputs": [],
   "source": [
    "#Copying the Label Dataset to Output Folder \n",
    "\n",
    "orginal_label = r\"/data/TrainingSet/labels\"\n",
    "target_label = r\"/home/workspace/out/labels\"\n",
    "for labelfile in glob.iglob(os.path.join(orginal_label, \"*.nii.gz\")):\n",
    "    shutil.copy(labelfile, target_label)"
   ]
  },
  {
   "cell_type": "code",
   "execution_count": 51,
   "metadata": {},
   "outputs": [],
   "source": [
    "# Checking Output folder for Image and Label files\n",
    "\n",
    "out_img_path = r\"/home/workspace/out/images\"\n",
    "out_image = np.array([[(os.path.join(dp, f), nib.load(os.path.join(dp, f))) for f in files]\n",
    "                   for dp,_,files in os.walk(out_img_path) if len(files) != 0])\n",
    "\n",
    "out_lab_path = r\"/home/workspace/out/labels\"\n",
    "out_label = np.array([[(os.path.join(dp, f), nib.load(os.path.join(dp, f))) for f in files]\n",
    "                   for dp,_,files in os.walk(out_lab_path) if len(files) != 0])"
   ]
  },
  {
   "cell_type": "code",
   "execution_count": 46,
   "metadata": {},
   "outputs": [
    {
     "data": {
      "text/plain": [
       "(1, 263, 2)"
      ]
     },
     "execution_count": 46,
     "metadata": {},
     "output_type": "execute_result"
    }
   ],
   "source": [
    "out_image.shape"
   ]
  },
  {
   "cell_type": "code",
   "execution_count": 47,
   "metadata": {},
   "outputs": [
    {
     "data": {
      "text/plain": [
       "(1, 262, 2)"
      ]
     },
     "execution_count": 47,
     "metadata": {},
     "output_type": "execute_result"
    }
   ],
   "source": [
    "out_label.shape"
   ]
  },
  {
   "cell_type": "code",
   "execution_count": 48,
   "metadata": {},
   "outputs": [],
   "source": [
    "# Deleting 3 outlier files in image directory\n",
    "os.remove(\"/home/workspace/out/images/hippocampus_118.nii.gz\")\n",
    "os.remove(\"/home/workspace/out/images/hippocampus_281.nii.gz\")\n",
    "os.remove(\"/home/workspace/out/images/hippocampus_010.nii.gz\")"
   ]
  },
  {
   "cell_type": "code",
   "execution_count": 49,
   "metadata": {},
   "outputs": [],
   "source": [
    "# Deleting 2 outlier files in label directory\n",
    "os.remove(\"/home/workspace/out/labels/hippocampus_281.nii.gz\")\n",
    "os.remove(\"/home/workspace/out/labels/hippocampus_010.nii.gz\")"
   ]
  },
  {
   "cell_type": "code",
   "execution_count": 52,
   "metadata": {},
   "outputs": [
    {
     "data": {
      "text/plain": [
       "(1, 260, 2)"
      ]
     },
     "execution_count": 52,
     "metadata": {},
     "output_type": "execute_result"
    }
   ],
   "source": [
    "out_image.shape"
   ]
  },
  {
   "cell_type": "code",
   "execution_count": 53,
   "metadata": {},
   "outputs": [
    {
     "data": {
      "text/plain": [
       "(1, 260, 2)"
      ]
     },
     "execution_count": 53,
     "metadata": {},
     "output_type": "execute_result"
    }
   ],
   "source": [
    "out_label.shape"
   ]
  },
  {
   "cell_type": "markdown",
   "metadata": {},
   "source": [
    "<img src=\"img/nomogram_fem_right.svg\" width=400 align=left>"
   ]
  },
  {
   "cell_type": "markdown",
   "metadata": {},
   "source": [
    "Do you see any outliers? Why do you think it's so (might be not immediately obvious, but it's always a good idea to inspect) outliers closer. If you haven't found the images that do not belong, the histogram may help you."
   ]
  },
  {
   "cell_type": "markdown",
   "metadata": {},
   "source": [
    "In the real world we would have precise information about the ages and conditions of our patients, and understanding how our dataset measures against population norm would be the integral part of clinical validation that we talked about in last lesson. Unfortunately, we do not have this information about this dataset, so we can only guess why it measures the way it is. If you would like to explore further, you can use the [calculator from HippoFit project](http://www.smanohar.com/biobank/calculator.html) to see how our dataset compares against different population slices"
   ]
  },
  {
   "cell_type": "markdown",
   "metadata": {},
   "source": [
    "Did you notice anything odd about the label files? We hope you did! The mask seems to have two classes, labeled with values `1` and `2` respectively. If you visualized sagittal or axial views, you might have gotten a good guess of what those are. Class 1 is the anterior segment of the hippocampus and class 2 is the posterior one. \n",
    "\n",
    "For the purpose of volume calculation we do not care about the distinction, however we will still train our network to differentiate between these two classes and the background"
   ]
  },
  {
   "cell_type": "markdown",
   "metadata": {},
   "source": [
    "## Final remarks\n",
    "\n",
    "Congratulations! You have finished Section 1. \n",
    "\n",
    "In this section you have inspected a dataset of MRI scans and related segmentations, represented as NIFTI files. We have visualized some slices, and understood the layout of the data. We have inspected file headers to understand what how the image dimensions relate to the physical world and we have understood how to measure our volume. We have then inspected dataset for outliers, and have created a clean set that is ready for consumption by our ML algorithm. \n",
    "\n",
    "In the next section you will create training and testing pipelines for a UNet-based machine learning model, run and monitor the execution, and will produce test metrics. This will arm you with all you need to use the model in the clinical context and reason about its performance!"
   ]
  }
 ],
 "metadata": {
  "kernelspec": {
   "display_name": "Python 3",
   "language": "python",
   "name": "python3"
  },
  "language_info": {
   "codemirror_mode": {
    "name": "ipython",
    "version": 3
   },
   "file_extension": ".py",
   "mimetype": "text/x-python",
   "name": "python",
   "nbconvert_exporter": "python",
   "pygments_lexer": "ipython3",
   "version": "3.8.2"
  }
 },
 "nbformat": 4,
 "nbformat_minor": 2
}
